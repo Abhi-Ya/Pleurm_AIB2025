{
 "cells": [
  {
   "cell_type": "markdown",
   "id": "9c1d83a7",
   "metadata": {},
   "source": [
    "This code section is for trying to import the data from GDSC with the list of drug to individual cell line. then convert the name of chemical to SELFIES and SMILES encoding."
   ]
  },
  {
   "cell_type": "code",
   "execution_count": 1,
   "id": "5edffb06",
   "metadata": {},
   "outputs": [],
   "source": [
    "import pandas as pd \n",
    "import numpy as np \n",
    "import selfies as sf \n",
    "import pubchempy as pcp "
   ]
  },
  {
   "cell_type": "code",
   "execution_count": null,
   "id": "cbe60304",
   "metadata": {},
   "outputs": [
    {
     "name": "stdout",
     "output_type": "stream",
     "text": [
      "     ID                          Drug Name               Targets   Z Score\n",
      "0  1026                       Tanespimycin                 HSP90 -2.986095\n",
      "1  1425                              BPTES                   GLS -2.534759\n",
      "2  1368                           BAY-MPS1                  MPS1 -2.209878\n",
      "3  1369  BAY-MPS-combo-1 (paclitaxel 5 uM)  TTK and microtubules -2.091753\n",
      "4  1370  BAY-MPS-combo 2 (paclitaxel 1 uM)  TTK and microtubules -2.087849\n"
     ]
    }
   ],
   "source": [
    "dataA549_path = 'dataset/A549_drugzscore.csv'\n",
    "dataA549 = pd.read_csv(dataA549_path)\n",
    "dataA549 = dataA549.drop(columns=['Count']) #remove the column 'Count'\n",
    "print(dataA549.head(5))"
   ]
  },
  {
   "cell_type": "code",
   "execution_count": 10,
   "id": "0997521e",
   "metadata": {},
   "outputs": [
    {
     "name": "stdout",
     "output_type": "stream",
     "text": [
      "     ID                          Drug Name               Targets   Z Score  \\\n",
      "0  1026                       Tanespimycin                 HSP90 -2.986095   \n",
      "1  1425                              BPTES                   GLS -2.534759   \n",
      "2  1368                           BAY-MPS1                  MPS1 -2.209878   \n",
      "3  1369  BAY-MPS-combo-1 (paclitaxel 5 uM)  TTK and microtubules -2.091753   \n",
      "4  1370  BAY-MPS-combo 2 (paclitaxel 1 uM)  TTK and microtubules -2.087849   \n",
      "\n",
      "                                              SMILES  \n",
      "0  CC1CC(C(C(C=C(C(C(C=CC=C(C(=O)NC2=CC(=O)C(=C(C...  \n",
      "1  C1=CC=C(C=C1)CC(=O)NC2=NN=C(S2)CCSCCC3=NN=C(S3...  \n",
      "2                                               None  \n",
      "3                                               None  \n",
      "4                                               None  \n"
     ]
    }
   ],
   "source": [
    "# Add a new column for SMILES codes\n",
    "dataA549['SMILES'] = dataA549['Drug Name'].apply(lambda drug: pcp.get_compounds(drug, 'name')[0].canonical_smiles if pcp.get_compounds(drug, 'name') else None)\n",
    "\n",
    "print(dataA549.head(5))"
   ]
  },
  {
   "cell_type": "code",
   "execution_count": 13,
   "id": "d6751c3a",
   "metadata": {},
   "outputs": [
    {
     "name": "stdout",
     "output_type": "stream",
     "text": [
      "     ID                          Drug Name                         Targets  \\\n",
      "0  1026                       Tanespimycin                           HSP90   \n",
      "1  1425                              BPTES                             GLS   \n",
      "2  1368                           BAY-MPS1                            MPS1   \n",
      "3  1369  BAY-MPS-combo-1 (paclitaxel 5 uM)            TTK and microtubules   \n",
      "4  1370  BAY-MPS-combo 2 (paclitaxel 1 uM)            TTK and microtubules   \n",
      "5  1014                        Refametinib                      MEK1, MEK2   \n",
      "6  1461                          TANK_1366  Tankyrase 1/2 (PARP5a, PARP5b)   \n",
      "7  1498                        Selumetinib                      MEK1, MEK2   \n",
      "8  1458                          PARP_9495             PARP1, PARP2, PARP7   \n",
      "9  1038                             NU7441                           DNAPK   \n",
      "\n",
      "    Z Score                                             SMILES  \n",
      "0 -2.986095  CC1CC(C(C(C=C(C(C(C=CC=C(C(=O)NC2=CC(=O)C(=C(C...  \n",
      "1 -2.534759  C1=CC=C(C=C1)CC(=O)NC2=NN=C(S2)CCSCCC3=NN=C(S3...  \n",
      "2 -2.209878                                               None  \n",
      "3 -2.091753                                               None  \n",
      "4 -2.087849                                               None  \n",
      "5 -1.983500  COC1=CC(=C(C(=C1NS(=O)(=O)C2(CC2)CC(CO)O)NC3=C...  \n",
      "6 -1.816252                                               None  \n",
      "7 -1.810198  CN1C=NC2=C1C=C(C(=C2F)NC3=C(C=C(C=C3)Br)Cl)C(=...  \n",
      "8 -1.775464                                               None  \n",
      "9 -1.734860  C1COCCN1C2=CC(=O)C3=C(O2)C(=CC=C3)C4=CC=CC5=C4...  \n",
      "rows :  359\n",
      "columns :  5\n"
     ]
    }
   ],
   "source": [
    "print(dataA549.head(10))\n",
    "print(\"rows : \", dataA549.shape[0])\n",
    "print(\"columns : \", dataA549.shape[1])"
   ]
  },
  {
   "cell_type": "code",
   "execution_count": 14,
   "id": "7ac96a75",
   "metadata": {},
   "outputs": [
    {
     "name": "stdout",
     "output_type": "stream",
     "text": [
      "     ID     Drug Name     Targets   Z Score  \\\n",
      "0  1026  Tanespimycin       HSP90 -2.986095   \n",
      "1  1425         BPTES         GLS -2.534759   \n",
      "5  1014   Refametinib  MEK1, MEK2 -1.983500   \n",
      "7  1498   Selumetinib  MEK1, MEK2 -1.810198   \n",
      "9  1038        NU7441       DNAPK -1.734860   \n",
      "\n",
      "                                              SMILES  \n",
      "0  CC1CC(C(C(C=C(C(C(C=CC=C(C(=O)NC2=CC(=O)C(=C(C...  \n",
      "1  C1=CC=C(C=C1)CC(=O)NC2=NN=C(S2)CCSCCC3=NN=C(S3...  \n",
      "5  COC1=CC(=C(C(=C1NS(=O)(=O)C2(CC2)CC(CO)O)NC3=C...  \n",
      "7  CN1C=NC2=C1C=C(C(=C2F)NC3=C(C=C(C=C3)Br)Cl)C(=...  \n",
      "9  C1COCCN1C2=CC(=O)C3=C(O2)C(=CC=C3)C4=CC=CC5=C4...  \n",
      "rows :  282\n",
      "columns :  5\n"
     ]
    }
   ],
   "source": [
    "#preprocess the data by dropping the SMILES with none\n",
    "dataA549_clean = dataA549.dropna(subset=['SMILES'])\n",
    "print(dataA549_clean.head(5))\n",
    "print(\"rows : \", dataA549_clean.shape[0])\n",
    "print(\"columns : \", dataA549_clean.shape[1])"
   ]
  },
  {
   "cell_type": "code",
   "execution_count": 16,
   "id": "98594748",
   "metadata": {},
   "outputs": [
    {
     "name": "stdout",
     "output_type": "stream",
     "text": [
      "     ID     Drug Name     Targets   Z Score  \\\n",
      "0  1026  Tanespimycin       HSP90 -2.986095   \n",
      "1  1425         BPTES         GLS -2.534759   \n",
      "5  1014   Refametinib  MEK1, MEK2 -1.983500   \n",
      "7  1498   Selumetinib  MEK1, MEK2 -1.810198   \n",
      "9  1038        NU7441       DNAPK -1.734860   \n",
      "\n",
      "                                              SMILES  \\\n",
      "0  CC1CC(C(C(C=C(C(C(C=CC=C(C(=O)NC2=CC(=O)C(=C(C...   \n",
      "1  C1=CC=C(C=C1)CC(=O)NC2=NN=C(S2)CCSCCC3=NN=C(S3...   \n",
      "5  COC1=CC(=C(C(=C1NS(=O)(=O)C2(CC2)CC(CO)O)NC3=C...   \n",
      "7  CN1C=NC2=C1C=C(C(=C2F)NC3=C(C=C(C=C3)Br)Cl)C(=...   \n",
      "9  C1COCCN1C2=CC(=O)C3=C(O2)C(=CC=C3)C4=CC=CC5=C4...   \n",
      "\n",
      "                                             SELFIES  \n",
      "0  [C][C][C][C][Branch2][=Branch1][=Branch1][C][B...  \n",
      "1  [C][=C][C][=C][Branch1][Branch1][C][=C][Ring1]...  \n",
      "5  [C][O][C][=C][C][=Branch2][Branch1][C][=C][Bra...  \n",
      "7  [C][N][C][=N][C][=C][Ring1][Branch1][C][=C][Br...  \n",
      "9  [C][C][O][C][C][N][Ring1][=Branch1][C][=C][C][...  \n"
     ]
    },
    {
     "name": "stderr",
     "output_type": "stream",
     "text": [
      "C:\\Users\\Lenovo\\AppData\\Local\\Temp\\ipykernel_6036\\3353966770.py:2: SettingWithCopyWarning: \n",
      "A value is trying to be set on a copy of a slice from a DataFrame.\n",
      "Try using .loc[row_indexer,col_indexer] = value instead\n",
      "\n",
      "See the caveats in the documentation: https://pandas.pydata.org/pandas-docs/stable/user_guide/indexing.html#returning-a-view-versus-a-copy\n",
      "  dataA549_clean['SELFIES'] = dataA549_clean['SMILES'].apply(lambda x: sf.encoder(x) if x else None)\n"
     ]
    }
   ],
   "source": [
    "#encode SMILES to SELFIES\n",
    "dataA549_clean['SELFIES'] = dataA549_clean['SMILES'].apply(lambda x: sf.encoder(x) if x else None)\n",
    "print(dataA549_clean.head(5))"
   ]
  },
  {
   "cell_type": "code",
   "execution_count": null,
   "id": "bd623229",
   "metadata": {},
   "outputs": [],
   "source": []
  },
  {
   "cell_type": "code",
   "execution_count": 17,
   "id": "468f463b",
   "metadata": {},
   "outputs": [
    {
     "name": "stdout",
     "output_type": "stream",
     "text": [
      "Number of None values in SELFIES column: 0\n"
     ]
    }
   ],
   "source": [
    "none_count = dataA549_clean['SELFIES'].isna().sum()\n",
    "print(\"Number of None values in SELFIES column:\", none_count)"
   ]
  },
  {
   "cell_type": "code",
   "execution_count": null,
   "id": "7271bf5d",
   "metadata": {},
   "outputs": [],
   "source": [
    "# note: success encoding SMILES and SELFIES from the database CCL with many drug compounds. (source GDSC)\n",
    "'''\n",
    "- https://aspuru.substack.com/p/molecular-graph-representations-and\n",
    "- https://github.com/aspuru-guzik-group/selfies\n",
    "- https://github.com/gadsbyfly/PyBioMed/blob/master/PyBioMed/doc/User_guide.rst\n",
    "'''"
   ]
  }
 ],
 "metadata": {
  "kernelspec": {
   "display_name": "Python 3",
   "language": "python",
   "name": "python3"
  },
  "language_info": {
   "codemirror_mode": {
    "name": "ipython",
    "version": 3
   },
   "file_extension": ".py",
   "mimetype": "text/x-python",
   "name": "python",
   "nbconvert_exporter": "python",
   "pygments_lexer": "ipython3",
   "version": "3.12.10"
  }
 },
 "nbformat": 4,
 "nbformat_minor": 5
}
