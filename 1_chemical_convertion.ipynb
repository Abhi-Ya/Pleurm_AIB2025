{
 "cells": [
  {
   "cell_type": "markdown",
   "id": "4b4f2ef3",
   "metadata": {},
   "source": [
    "This code section is for converting the chemical compound from name list -> SMILES and SELFIES format.\n",
    "\n",
    "\n",
    "Note for code:\n",
    "\n",
    "lib: https://pubchempy.readthedocs.io/en/latest/guide/gettingstarted.html"
   ]
  },
  {
   "cell_type": "code",
   "execution_count": null,
   "id": "e64dd4d6",
   "metadata": {},
   "outputs": [],
   "source": [
    "pip install pubchempy"
   ]
  },
  {
   "cell_type": "code",
   "execution_count": 2,
   "id": "4d44b12a",
   "metadata": {},
   "outputs": [],
   "source": [
    "import pubchempy as pcp"
   ]
  },
  {
   "cell_type": "code",
   "execution_count": 7,
   "id": "07bb71d9",
   "metadata": {},
   "outputs": [
    {
     "name": "stdout",
     "output_type": "stream",
     "text": [
      "C17H14O4S\n",
      "CS(=O)(=O)C1=CC=C(C=C1)C2=C(C(=O)OC2)C3=CC=CC=C3\n"
     ]
    }
   ],
   "source": [
    "c = pcp.Compound.from_cid(5090)\n",
    "print(c.molecular_formula)\n",
    "print(c.isomeric_smiles)"
   ]
  },
  {
   "cell_type": "code",
   "execution_count": null,
   "id": "a3dc2c07",
   "metadata": {},
   "outputs": [
    {
     "data": {
      "text/plain": [
       "[Compound(2244)]"
      ]
     },
     "execution_count": 9,
     "metadata": {},
     "output_type": "execute_result"
    }
   ],
   "source": [
    "pcp.get_compounds('Aspirin', 'name', record_type='3d')\n"
   ]
  },
  {
   "cell_type": "code",
   "execution_count": 10,
   "id": "060c12b1",
   "metadata": {},
   "outputs": [
    {
     "data": {
      "text/plain": [
       "[17166, 5283335, 5354833]"
      ]
     },
     "execution_count": 10,
     "metadata": {},
     "output_type": "execute_result"
    }
   ],
   "source": [
    "pcp.get_cids('2-nonenal', 'name', 'substance', list_return='flat')\n",
    "[17166, 5283335, 5354833]"
   ]
  },
  {
   "cell_type": "code",
   "execution_count": null,
   "id": "193cf0d7",
   "metadata": {},
   "outputs": [
    {
     "name": "stdout",
     "output_type": "stream",
     "text": [
      "2-O-(2-butoxy-2-oxoethyl) 1-O-butyl benzene-1,2-dicarboxylate\n"
     ]
    }
   ],
   "source": [
    "# if you know it CID -> get compound name\n",
    "c = pcp.Compound.from_cid(6819)\n",
    "print(c.iupac_name) "
   ]
  },
  {
   "cell_type": "code",
   "execution_count": null,
   "id": "67d418b2",
   "metadata": {},
   "outputs": [
    {
     "name": "stdout",
     "output_type": "stream",
     "text": [
      "oxidane\n",
      "H2O\n",
      "O\n",
      "Atom coordinates: 0, 0, 0\n",
      "H\n",
      "Atom coordinates: 0.2774, 0.8929, 0.2544\n",
      "H\n",
      "Atom coordinates: 0.6068, -0.2383, -0.7169\n"
     ]
    }
   ],
   "source": [
    "#get the compound name, formular, and the coordinate xyz of each atom in the compound.\n",
    "\n",
    "compound = pcp.Compound.from_cid(962, record_type='2d')\n",
    "print(compound.iupac_name)\n",
    "print(compound.molecular_formula)\n",
    "\n",
    "compound_3d = pcp.get_compounds(962, 'cid', record_type='3d')\n",
    "# Access the 3D coordinates for each atom in the compound\n",
    "if compound_3d:\n",
    "    for atom in compound_3d[0].atoms:\n",
    "        print(atom.element)\n",
    "        print(f\"Atom coordinates: {atom.x}, {atom.y}, {atom.z}\")\n",
    "else:\n",
    "    print(f\"No 3D record found for CID {cid}\")"
   ]
  },
  {
   "cell_type": "markdown",
   "id": "cc65e925",
   "metadata": {},
   "source": [
    "PyBioMed also provide the lib to read and display SMILES code from the DrugBankID\n",
    "\n",
    "source = https://github.com/gadsbyfly/PyBioMed/blob/master/PyBioMed/doc/User_guide.rst"
   ]
  },
  {
   "cell_type": "code",
   "execution_count": 39,
   "id": "75d95336",
   "metadata": {},
   "outputs": [
    {
     "name": "stderr",
     "output_type": "stream",
     "text": [
      "ERROR: Could not find a version that satisfies the requirement rdkit-pypi (from versions: none)\n",
      "\n",
      "[notice] A new release of pip is available: 25.0.1 -> 25.1\n",
      "[notice] To update, run: C:\\Users\\Lenovo\\AppData\\Local\\Microsoft\\WindowsApps\\PythonSoftwareFoundation.Python.3.12_qbz5n2kfra8p0\\python.exe -m pip install --upgrade pip\n",
      "ERROR: No matching distribution found for rdkit-pypi\n",
      "\n",
      "[notice] A new release of pip is available: 25.0.1 -> 25.1\n",
      "[notice] To update, run: C:\\Users\\Lenovo\\AppData\\Local\\Microsoft\\WindowsApps\\PythonSoftwareFoundation.Python.3.12_qbz5n2kfra8p0\\python.exe -m pip install --upgrade pip\n"
     ]
    },
    {
     "ename": "ModuleNotFoundError",
     "evalue": "No module named 'torch'",
     "output_type": "error",
     "traceback": [
      "\u001b[31m---------------------------------------------------------------------------\u001b[39m",
      "\u001b[31mModuleNotFoundError\u001b[39m                       Traceback (most recent call last)",
      "\u001b[36mCell\u001b[39m\u001b[36m \u001b[39m\u001b[32mIn[39]\u001b[39m\u001b[32m, line 10\u001b[39m\n\u001b[32m      8\u001b[39m \u001b[38;5;28;01mimport\u001b[39;00m\u001b[38;5;250m \u001b[39m\u001b[34;01mnumpy\u001b[39;00m\u001b[38;5;250m \u001b[39m\u001b[38;5;28;01mas\u001b[39;00m\u001b[38;5;250m \u001b[39m\u001b[34;01mnp\u001b[39;00m \n\u001b[32m      9\u001b[39m \u001b[38;5;28;01mimport\u001b[39;00m\u001b[38;5;250m \u001b[39m\u001b[34;01mpandas\u001b[39;00m\u001b[38;5;250m \u001b[39m\u001b[38;5;28;01mas\u001b[39;00m\u001b[38;5;250m \u001b[39m\u001b[34;01mpd\u001b[39;00m\n\u001b[32m---> \u001b[39m\u001b[32m10\u001b[39m \u001b[38;5;28;01mimport\u001b[39;00m\u001b[38;5;250m \u001b[39m\u001b[34;01mtorch\u001b[39;00m\n\u001b[32m     11\u001b[39m \u001b[38;5;28;01mfrom\u001b[39;00m\u001b[38;5;250m \u001b[39m\u001b[34;01mpytorch_lightning\u001b[39;00m\u001b[38;5;250m \u001b[39m\u001b[38;5;28;01mimport\u001b[39;00m Trainer, seed_everything\n\u001b[32m     13\u001b[39m \u001b[38;5;66;03m# Chemoinformatics tools\u001b[39;00m\n",
      "\u001b[31mModuleNotFoundError\u001b[39m: No module named 'torch'"
     ]
    }
   ],
   "source": [
    "!pip -q install rdkit-pypi\n",
    "!pip -q install selfies\n",
    "# Python's tools\n",
    "import os\n",
    "import sys\n",
    "from collections import OrderedDict\n",
    "# Data and Deep Learning tools\n",
    "import numpy as np \n",
    "import pandas as pd\n",
    "import torch\n",
    "from pytorch_lightning import Trainer, seed_everything\n",
    "\n",
    "# Chemoinformatics tools\n",
    "from rdkit import Chem\n",
    "import selfies as sf\n",
    "\n",
    "print(torch.__version__)\n",
    "print(sf.__version__)"
   ]
  },
  {
   "cell_type": "code",
   "execution_count": 44,
   "id": "46ea9bb6",
   "metadata": {},
   "outputs": [
    {
     "name": "stdout",
     "output_type": "stream",
     "text": [
      "Defaulting to user installation because normal site-packages is not writeable\n",
      "Note: you may need to restart the kernel to use updated packages.\n"
     ]
    },
    {
     "name": "stderr",
     "output_type": "stream",
     "text": [
      "ERROR: Could not find a version that satisfies the requirement molsyn.utils (from versions: none)\n",
      "\n",
      "[notice] A new release of pip is available: 25.0.1 -> 25.1\n",
      "[notice] To update, run: C:\\Users\\Lenovo\\AppData\\Local\\Microsoft\\WindowsApps\\PythonSoftwareFoundation.Python.3.12_qbz5n2kfra8p0\\python.exe -m pip install --upgrade pip\n",
      "ERROR: No matching distribution found for molsyn.utils\n"
     ]
    }
   ],
   "source": [
    "pip install molsyn.utils"
   ]
  },
  {
   "cell_type": "code",
   "execution_count": 48,
   "id": "98d0fdc7",
   "metadata": {},
   "outputs": [
    {
     "name": "stdout",
     "output_type": "stream",
     "text": [
      "Defaulting to user installation because normal site-packages is not writeable\n",
      "Requirement already satisfied: selfies in c:\\users\\lenovo\\appdata\\local\\packages\\pythonsoftwarefoundation.python.3.12_qbz5n2kfra8p0\\localcache\\local-packages\\python312\\site-packages (2.2.0)\n"
     ]
    },
    {
     "name": "stderr",
     "output_type": "stream",
     "text": [
      "\n",
      "[notice] A new release of pip is available: 25.0.1 -> 25.1\n",
      "[notice] To update, run: C:\\Users\\Lenovo\\AppData\\Local\\Microsoft\\WindowsApps\\PythonSoftwareFoundation.Python.3.12_qbz5n2kfra8p0\\python.exe -m pip install --upgrade pip\n"
     ]
    },
    {
     "name": "stdout",
     "output_type": "stream",
     "text": [
      "Defaulting to user installation because normal site-packages is not writeable\n"
     ]
    },
    {
     "name": "stderr",
     "output_type": "stream",
     "text": [
      "ERROR: Could not find a version that satisfies the requirement rdkit-pypi (from versions: none)\n",
      "\n",
      "[notice] A new release of pip is available: 25.0.1 -> 25.1\n",
      "[notice] To update, run: C:\\Users\\Lenovo\\AppData\\Local\\Microsoft\\WindowsApps\\PythonSoftwareFoundation.Python.3.12_qbz5n2kfra8p0\\python.exe -m pip install --upgrade pip\n",
      "ERROR: No matching distribution found for rdkit-pypi\n"
     ]
    }
   ],
   "source": [
    "!pip install selfies\n",
    "!pip install rdkit-pypi\n"
   ]
  },
  {
   "cell_type": "code",
   "execution_count": 54,
   "id": "c7d30b15",
   "metadata": {},
   "outputs": [
    {
     "name": "stdout",
     "output_type": "stream",
     "text": [
      "CO\n",
      "SELFIES: [C][O]\n",
      "smiles: [C-]#[O+]\n"
     ]
    }
   ],
   "source": [
    "import selfies\n",
    "import pubchempy as pcp\n",
    "\n",
    "# Example SMILES for ethanol\n",
    "compound = pcp.get_compounds('carbon monoxide', 'name')[0]\n",
    "formular = compound.molecular_formula\n",
    "print(formular)\n",
    "\n",
    "# Convert to SELFIES\n",
    "selfies_string = selfies.encoder(formular)\n",
    "smiles = compound.isomeric_smiles\n",
    "\n",
    "print(\"SELFIES:\", selfies_string)\n",
    "print(\"smiles:\", smiles)\n"
   ]
  },
  {
   "cell_type": "markdown",
   "id": "beee9bcd",
   "metadata": {},
   "source": [
    "------------------------------------------------------------------------"
   ]
  },
  {
   "cell_type": "code",
   "execution_count": 64,
   "id": "1d5e892b",
   "metadata": {},
   "outputs": [
    {
     "name": "stdout",
     "output_type": "stream",
     "text": [
      "['[C]', '[=C]', '[C]', '[=C]', '[C]', '[=C]', '[Ring1]', '[=Branch1]']\n"
     ]
    }
   ],
   "source": [
    "import selfies as sf\n",
    "\n",
    "benzene = \"c1ccccc1\"\n",
    "\n",
    "# SMILES -> SELFIES -> SMILES translation\n",
    "try:\n",
    "    benzene_sf = sf.encoder(benzene)  # [C][=C][C][=C][C][=C][Ring1][=Branch1]\n",
    "    benzene_smi = sf.decoder(benzene_sf)  # C1=CC=CC=C1\n",
    "except sf.EncoderError:\n",
    "    pass  # sf.encoder error!\n",
    "except sf.DecoderError:\n",
    "    pass  # sf.decoder error!\n",
    "\n",
    "len_benzene = sf.len_selfies(benzene_sf)  # 8\n",
    "\n",
    "symbols_benzene = list(sf.split_selfies(benzene_sf))\n",
    "# ['[C]', '[=C]', '[C]', '[=C]', '[C]', '[=C]', '[Ring1]', '[=Branch1]']\n",
    "\n",
    "print(symbols_benzene)"
   ]
  },
  {
   "cell_type": "code",
   "execution_count": null,
   "id": "9bacac88",
   "metadata": {},
   "outputs": [
    {
     "name": "stdout",
     "output_type": "stream",
     "text": [
      "C1=CC=CC=C1\n",
      "[C][=C][C][=C][C][=C][Ring1][=Branch1]\n"
     ]
    }
   ],
   "source": [
    "import pubchempy as pcp\n",
    "import selfies as sf\n",
    "\n",
    "apple = pcp.get_compounds('benzene', 'name')[0]\n",
    "\n",
    "print(apple.isomeric_smiles) #get smiles code\n",
    "apple_selfies = sf.encoder(apple.isomeric_smiles)\n",
    "print(apple_selfies) # get selfies code"
   ]
  },
  {
   "cell_type": "code",
   "execution_count": 1,
   "id": "15eb6eec",
   "metadata": {},
   "outputs": [
    {
     "name": "stdout",
     "output_type": "stream",
     "text": [
      "CC[C@@]1(C2=C(COC1=O)C(=O)N3CC4=CC5=CC=CC=C5N=C4C3=C2)O\n",
      "[C][C][C@@][Branch2][Ring2][=Branch1][C][=C][Branch1][#Branch1][C][O][C][Ring1][=Branch1][=O][C][=Branch1][C][=O][N][C][C][=C][C][=C][C][=C][C][=C][Ring1][=Branch1][N][=C][Ring1][#Branch2][C][Ring1][=N][=C][Ring2][Ring1][=Branch1][O]\n"
     ]
    }
   ],
   "source": [
    "import pubchempy as pcp\n",
    "import selfies as sf\n",
    "\n",
    "apple = pcp.get_compounds('Camptothecin', 'name')[0]\n",
    "\n",
    "print(apple.isomeric_smiles) #get smiles code\n",
    "apple_selfies = sf.encoder(apple.isomeric_smiles)\n",
    "print(apple_selfies) # get selfies code"
   ]
  }
 ],
 "metadata": {
  "kernelspec": {
   "display_name": "Python 3",
   "language": "python",
   "name": "python3"
  },
  "language_info": {
   "codemirror_mode": {
    "name": "ipython",
    "version": 3
   },
   "file_extension": ".py",
   "mimetype": "text/x-python",
   "name": "python",
   "nbconvert_exporter": "python",
   "pygments_lexer": "ipython3",
   "version": "3.12.10"
  }
 },
 "nbformat": 4,
 "nbformat_minor": 5
}
